{
 "cells": [
  {
   "cell_type": "code",
   "execution_count": 26,
   "id": "37078308-d051-4db6-9f16-573412885118",
   "metadata": {},
   "outputs": [],
   "source": [
    "import pandas as pd\n",
    "import datetime\n",
    "import re"
   ]
  },
  {
   "cell_type": "code",
   "execution_count": 25,
   "id": "beb63115-9775-4e0b-ad1d-890d73856558",
   "metadata": {},
   "outputs": [],
   "source": [
    "def parse_file(filename):\n",
    "    casts = []\n",
    "    date_pattern = re.compile(r'\\d{4}/\\d{2}/\\d{2} \\d{2}:\\d{2}:\\d{2}')\n",
    "    \n",
    "    with open(filename, 'r') as file:\n",
    "        lines = file.readlines()\n",
    "        \n",
    "        i = 0\n",
    "        while i < len(lines):\n",
    "            header = lines[i].strip()\n",
    "            if date_pattern.match(header[:19]):\n",
    "                parts = header.split(maxsplit=3)\n",
    "                if len(parts) >= 3:\n",
    "                    date_str = parts[0] + \" \" + parts[1]\n",
    "                    cast_identifier = parts[2] + (\" \" + parts[3] if len(parts) == 4 else \"\")\n",
    "                else:\n",
    "                    print(f\"Header format is incorrect: {header}\")\n",
    "                    raise ValueError(\"Header format is incorrect\")\n",
    "                \n",
    "                try:\n",
    "                    date = datetime.datetime.strptime(date_str, '%Y/%m/%d %H:%M:%S')\n",
    "                except ValueError:\n",
    "                    print(f\"Date format is incorrect: {date_str}\")\n",
    "                    raise ValueError(f\"Incorrect date format: {date_str}\")\n",
    "                \n",
    "                depth_temp_data = []\n",
    "                i += 1\n",
    "                while i < len(lines) and not date_pattern.match(lines[i].strip()[:19]):\n",
    "                    depth, temp = lines[i].strip().split()\n",
    "                    depth_temp_data.append((-abs(int(depth)), float(temp)))  # Ensure depth is negative\n",
    "                    i += 1\n",
    "                \n",
    "                casts.append((date, cast_identifier, depth_temp_data))\n",
    "            else:\n",
    "                i += 1\n",
    "    \n",
    "    return casts"
   ]
  },
  {
   "cell_type": "code",
   "execution_count": 27,
   "id": "5806cb90-2b4c-4f1b-af51-1306ddfd15a1",
   "metadata": {},
   "outputs": [],
   "source": [
    "def merge_and_sort_casts(file1, file2):\n",
    "    casts1 = parse_file(file1)\n",
    "    casts2 = parse_file(file2)\n",
    "    \n",
    "    all_casts = casts1 + casts2\n",
    "    all_casts.sort(key=lambda x: x[0])\n",
    "    \n",
    "    return all_casts\n",
    "\n",
    "def write_output(filename, casts):\n",
    "    with open(filename, 'w') as file:\n",
    "        for cast in casts:\n",
    "            date_str = cast[0].strftime('%Y/%m/%d %H:%M:%S')\n",
    "            cast_identifier = cast[1]\n",
    "            file.write(f'{date_str} {cast_identifier}\\n')\n",
    "            for depth, temp in cast[2]:\n",
    "                file.write(f'{depth}\\t{temp}\\n')\n",
    "            file.write('\\n')\n"
   ]
  },
  {
   "cell_type": "code",
   "execution_count": 29,
   "id": "165d4c9e-88fe-48ad-8531-bd28191a9e8a",
   "metadata": {},
   "outputs": [],
   "source": [
    "# Usage\n",
    "file1 = 't_prof_LS.dat'\n",
    "file2 = 't_prof.dat'\n",
    "output_file = 't_prof_file.dat'\n",
    "\n",
    "casts = merge_and_sort_casts(file1, file2)\n",
    "write_output(output_file, casts)"
   ]
  }
 ],
 "metadata": {
  "kernelspec": {
   "display_name": "Python 3 (ipykernel)",
   "language": "python",
   "name": "python3"
  },
  "language_info": {
   "codemirror_mode": {
    "name": "ipython",
    "version": 3
   },
   "file_extension": ".py",
   "mimetype": "text/x-python",
   "name": "python",
   "nbconvert_exporter": "python",
   "pygments_lexer": "ipython3",
   "version": "3.11.3"
  }
 },
 "nbformat": 4,
 "nbformat_minor": 5
}
